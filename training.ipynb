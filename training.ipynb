{
 "cells": [
  {
   "cell_type": "code",
   "execution_count": 26,
   "metadata": {},
   "outputs": [],
   "source": [
    "import pandas as pd\n",
    "import numpy as np"
   ]
  },
  {
   "cell_type": "code",
   "execution_count": 28,
   "metadata": {},
   "outputs": [
    {
     "name": "stdout",
     "output_type": "stream",
     "text": [
      "<class 'pandas.core.frame.DataFrame'>\n",
      "RangeIndex: 372 entries, 0 to 371\n",
      "Data columns (total 43 columns):\n",
      " #   Column  Non-Null Count  Dtype  \n",
      "---  ------  --------------  -----  \n",
      " 0   Label   372 non-null    object \n",
      " 1   x1      372 non-null    float64\n",
      " 2   y1      372 non-null    float64\n",
      " 3   x2      372 non-null    float64\n",
      " 4   y2      372 non-null    float64\n",
      " 5   x3      372 non-null    float64\n",
      " 6   y3      372 non-null    float64\n",
      " 7   x4      372 non-null    float64\n",
      " 8   y4      372 non-null    float64\n",
      " 9   x5      372 non-null    float64\n",
      " 10  y5      372 non-null    float64\n",
      " 11  x6      372 non-null    float64\n",
      " 12  y6      372 non-null    float64\n",
      " 13  x7      372 non-null    float64\n",
      " 14  y7      372 non-null    float64\n",
      " 15  x8      372 non-null    float64\n",
      " 16  y8      372 non-null    float64\n",
      " 17  x9      372 non-null    float64\n",
      " 18  y9      372 non-null    float64\n",
      " 19  x10     372 non-null    float64\n",
      " 20  y10     372 non-null    float64\n",
      " 21  x11     372 non-null    float64\n",
      " 22  y11     372 non-null    float64\n",
      " 23  x12     372 non-null    float64\n",
      " 24  y12     372 non-null    float64\n",
      " 25  x13     372 non-null    float64\n",
      " 26  y13     372 non-null    float64\n",
      " 27  x14     372 non-null    float64\n",
      " 28  y14     372 non-null    float64\n",
      " 29  x15     372 non-null    float64\n",
      " 30  y15     372 non-null    float64\n",
      " 31  x16     372 non-null    float64\n",
      " 32  y16     372 non-null    float64\n",
      " 33  x17     372 non-null    float64\n",
      " 34  y17     372 non-null    float64\n",
      " 35  x18     372 non-null    float64\n",
      " 36  y18     372 non-null    float64\n",
      " 37  x19     372 non-null    float64\n",
      " 38  y19     372 non-null    float64\n",
      " 39  x20     372 non-null    float64\n",
      " 40  y20     372 non-null    float64\n",
      " 41  x21     372 non-null    float64\n",
      " 42  y21     372 non-null    float64\n",
      "dtypes: float64(42), object(1)\n",
      "memory usage: 125.1+ KB\n"
     ]
    }
   ],
   "source": [
    "data = pd.read_csv(\"data.csv\")\n",
    "data.info()"
   ]
  },
  {
   "cell_type": "code",
   "execution_count": null,
   "metadata": {},
   "outputs": [
    {
     "data": {
      "text/plain": [
       "numpy.ndarray"
      ]
     },
     "execution_count": 38,
     "metadata": {},
     "output_type": "execute_result"
    }
   ],
   "source": [
    "X = data[\"Label\"]\n",
    "X = X.to_numpy()\n",
    "X.shape"
   ]
  },
  {
   "cell_type": "code",
   "execution_count": 35,
   "metadata": {},
   "outputs": [
    {
     "data": {
      "text/plain": [
       "(372, 21, 2)"
      ]
     },
     "execution_count": 35,
     "metadata": {},
     "output_type": "execute_result"
    }
   ],
   "source": [
    "y = data.drop(columns=[\"Label\"])\n",
    "y = y.to_numpy()\n",
    "y = y.reshape(len(y), 21, 2)\n",
    "y.shape"
   ]
  },
  {
   "cell_type": "code",
   "execution_count": null,
   "metadata": {},
   "outputs": [],
   "source": []
  }
 ],
 "metadata": {
  "kernelspec": {
   "display_name": "venv",
   "language": "python",
   "name": "python3"
  },
  "language_info": {
   "codemirror_mode": {
    "name": "ipython",
    "version": 3
   },
   "file_extension": ".py",
   "mimetype": "text/x-python",
   "name": "python",
   "nbconvert_exporter": "python",
   "pygments_lexer": "ipython3",
   "version": "3.10.12"
  }
 },
 "nbformat": 4,
 "nbformat_minor": 2
}
